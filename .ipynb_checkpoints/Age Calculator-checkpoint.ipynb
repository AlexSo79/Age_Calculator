{
 "cells": [
  {
   "cell_type": "code",
   "execution_count": 1,
   "id": "2e20aa4a",
   "metadata": {},
   "outputs": [
    {
     "name": "stdout",
     "output_type": "stream",
     "text": [
      "44\n"
     ]
    }
   ],
   "source": [
    "def age_calculator(y,m,d):\n",
    "    import datetime\n",
    "    today = datetime.datetime.now().date()\n",
    "    dob = datetime.date(y,m,d)\n",
    "    age = int((today-dob).days/365.25)\n",
    "    print(age)\n",
    "age_calculator(1979,3,30)"
   ]
  }
 ],
 "metadata": {
  "kernelspec": {
   "display_name": "Python 3 (ipykernel)",
   "language": "python",
   "name": "python3"
  },
  "language_info": {
   "codemirror_mode": {
    "name": "ipython",
    "version": 3
   },
   "file_extension": ".py",
   "mimetype": "text/x-python",
   "name": "python",
   "nbconvert_exporter": "python",
   "pygments_lexer": "ipython3",
   "version": "3.10.9"
  }
 },
 "nbformat": 4,
 "nbformat_minor": 5
}
